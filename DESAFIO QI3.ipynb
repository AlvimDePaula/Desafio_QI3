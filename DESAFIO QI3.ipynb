{
 "cells": [
  {
   "cell_type": "markdown",
   "metadata": {},
   "source": [
    "# DESAFIO QI3\n",
    "- Análise dos dados Big Store\n",
    "- Criação de Gráficos aqui e no Tableau\n",
    "- Importação e Exportação de arquivo Excel"
   ]
  },
  {
   "cell_type": "code",
   "execution_count": 1,
   "metadata": {},
   "outputs": [],
   "source": [
    "import pandas as pd\n",
    "import numpy as np\n",
    "import warnings\n",
    "warnings.filterwarnings(\"ignore\")\n",
    "from matplotlib import pyplot as plt\n",
    "\n",
    "from sklearn.cluster import KMeans"
   ]
  },
  {
   "cell_type": "markdown",
   "metadata": {},
   "source": [
    "### Conhecendo os Dados"
   ]
  },
  {
   "cell_type": "code",
   "execution_count": 2,
   "metadata": {},
   "outputs": [],
   "source": [
    "# Puxando o dataset e criando o dataframe\n",
    "dataset = pd.read_excel('BIGSTORE_ANTES.xlsx')"
   ]
  },
  {
   "cell_type": "code",
   "execution_count": 3,
   "metadata": {},
   "outputs": [
    {
     "data": {
      "text/html": [
       "<div>\n",
       "<style scoped>\n",
       "    .dataframe tbody tr th:only-of-type {\n",
       "        vertical-align: middle;\n",
       "    }\n",
       "\n",
       "    .dataframe tbody tr th {\n",
       "        vertical-align: top;\n",
       "    }\n",
       "\n",
       "    .dataframe thead th {\n",
       "        text-align: right;\n",
       "    }\n",
       "</style>\n",
       "<table border=\"1\" class=\"dataframe\">\n",
       "  <thead>\n",
       "    <tr style=\"text-align: right;\">\n",
       "      <th></th>\n",
       "      <th>ID_Pedido</th>\n",
       "      <th>ID_Loja</th>\n",
       "      <th>ID_Cliente</th>\n",
       "      <th>Data_Compra</th>\n",
       "      <th>Quantidade_Itens</th>\n",
       "      <th>Quantidade_Envios</th>\n",
       "      <th>Lucro</th>\n",
       "      <th>Vendas</th>\n",
       "      <th>ID_Cidade</th>\n",
       "      <th>Nome_Loja</th>\n",
       "      <th>...</th>\n",
       "      <th>Cidade</th>\n",
       "      <th>ID_Pais</th>\n",
       "      <th>Estado</th>\n",
       "      <th>Pais</th>\n",
       "      <th>Nome_Cliente</th>\n",
       "      <th>ID_Item</th>\n",
       "      <th>ID_Produto</th>\n",
       "      <th>Produto</th>\n",
       "      <th>Unnamed: 19</th>\n",
       "      <th>Unnamed: 20</th>\n",
       "    </tr>\n",
       "  </thead>\n",
       "  <tbody>\n",
       "    <tr>\n",
       "      <th>0</th>\n",
       "      <td>1</td>\n",
       "      <td>1</td>\n",
       "      <td>1</td>\n",
       "      <td>2015-01-03</td>\n",
       "      <td>1</td>\n",
       "      <td>1</td>\n",
       "      <td>448.8000</td>\n",
       "      <td>1952.0000</td>\n",
       "      <td>410</td>\n",
       "      <td>Mixco</td>\n",
       "      <td>...</td>\n",
       "      <td>Mixco</td>\n",
       "      <td>11</td>\n",
       "      <td>Guatemala</td>\n",
       "      <td>Guatemala</td>\n",
       "      <td>Tânia Rodrigues</td>\n",
       "      <td>1309.0</td>\n",
       "      <td>54.0</td>\n",
       "      <td>Headset</td>\n",
       "      <td>NaN</td>\n",
       "      <td>NaN</td>\n",
       "    </tr>\n",
       "    <tr>\n",
       "      <th>1</th>\n",
       "      <td>2</td>\n",
       "      <td>3</td>\n",
       "      <td>5</td>\n",
       "      <td>2015-01-04</td>\n",
       "      <td>2</td>\n",
       "      <td>2</td>\n",
       "      <td>6380.0000</td>\n",
       "      <td>17974.0000</td>\n",
       "      <td>146</td>\n",
       "      <td>Francisco Beltrão</td>\n",
       "      <td>...</td>\n",
       "      <td>Francisco Beltrão</td>\n",
       "      <td>4</td>\n",
       "      <td>Paraná</td>\n",
       "      <td>Brasil</td>\n",
       "      <td>Rebeca Fernandes</td>\n",
       "      <td>779.0</td>\n",
       "      <td>1.0</td>\n",
       "      <td>Abridor de carta</td>\n",
       "      <td>NaN</td>\n",
       "      <td>NaN</td>\n",
       "    </tr>\n",
       "    <tr>\n",
       "      <th>2</th>\n",
       "      <td>2</td>\n",
       "      <td>3</td>\n",
       "      <td>5</td>\n",
       "      <td>2015-01-04</td>\n",
       "      <td>2</td>\n",
       "      <td>2</td>\n",
       "      <td>6380.0000</td>\n",
       "      <td>17974.0000</td>\n",
       "      <td>146</td>\n",
       "      <td>Francisco Beltrão</td>\n",
       "      <td>...</td>\n",
       "      <td>Francisco Beltrão</td>\n",
       "      <td>4</td>\n",
       "      <td>Paraná</td>\n",
       "      <td>Brasil</td>\n",
       "      <td>Rebeca Fernandes</td>\n",
       "      <td>563.0</td>\n",
       "      <td>38.0</td>\n",
       "      <td>Estante tradicional</td>\n",
       "      <td>NaN</td>\n",
       "      <td>NaN</td>\n",
       "    </tr>\n",
       "    <tr>\n",
       "      <th>3</th>\n",
       "      <td>3</td>\n",
       "      <td>6</td>\n",
       "      <td>4</td>\n",
       "      <td>2015-01-04</td>\n",
       "      <td>2</td>\n",
       "      <td>2</td>\n",
       "      <td>627.0824</td>\n",
       "      <td>3881.0824</td>\n",
       "      <td>545</td>\n",
       "      <td>Mérida</td>\n",
       "      <td>...</td>\n",
       "      <td>Mérida</td>\n",
       "      <td>16</td>\n",
       "      <td>Yucatán</td>\n",
       "      <td>México</td>\n",
       "      <td>Luís Sousa</td>\n",
       "      <td>738.0</td>\n",
       "      <td>94.0</td>\n",
       "      <td>Teclado</td>\n",
       "      <td>NaN</td>\n",
       "      <td>NaN</td>\n",
       "    </tr>\n",
       "    <tr>\n",
       "      <th>4</th>\n",
       "      <td>3</td>\n",
       "      <td>6</td>\n",
       "      <td>4</td>\n",
       "      <td>2015-01-04</td>\n",
       "      <td>2</td>\n",
       "      <td>2</td>\n",
       "      <td>627.0824</td>\n",
       "      <td>3881.0824</td>\n",
       "      <td>545</td>\n",
       "      <td>Mérida</td>\n",
       "      <td>...</td>\n",
       "      <td>Mérida</td>\n",
       "      <td>16</td>\n",
       "      <td>Yucatán</td>\n",
       "      <td>México</td>\n",
       "      <td>Luís Sousa</td>\n",
       "      <td>1684.0</td>\n",
       "      <td>100.0</td>\n",
       "      <td>Tinta</td>\n",
       "      <td>NaN</td>\n",
       "      <td>NaN</td>\n",
       "    </tr>\n",
       "  </tbody>\n",
       "</table>\n",
       "<p>5 rows × 21 columns</p>\n",
       "</div>"
      ],
      "text/plain": [
       "   ID_Pedido  ID_Loja  ID_Cliente Data_Compra  Quantidade_Itens  \\\n",
       "0          1        1           1  2015-01-03                 1   \n",
       "1          2        3           5  2015-01-04                 2   \n",
       "2          2        3           5  2015-01-04                 2   \n",
       "3          3        6           4  2015-01-04                 2   \n",
       "4          3        6           4  2015-01-04                 2   \n",
       "\n",
       "   Quantidade_Envios      Lucro      Vendas  ID_Cidade          Nome_Loja  \\\n",
       "0                  1   448.8000   1952.0000        410              Mixco   \n",
       "1                  2  6380.0000  17974.0000        146  Francisco Beltrão   \n",
       "2                  2  6380.0000  17974.0000        146  Francisco Beltrão   \n",
       "3                  2   627.0824   3881.0824        545             Mérida   \n",
       "4                  2   627.0824   3881.0824        545             Mérida   \n",
       "\n",
       "   ...             Cidade ID_Pais     Estado       Pais      Nome_Cliente  \\\n",
       "0  ...              Mixco      11  Guatemala  Guatemala   Tânia Rodrigues   \n",
       "1  ...  Francisco Beltrão       4     Paraná     Brasil  Rebeca Fernandes   \n",
       "2  ...  Francisco Beltrão       4     Paraná     Brasil  Rebeca Fernandes   \n",
       "3  ...             Mérida      16    Yucatán     México        Luís Sousa   \n",
       "4  ...             Mérida      16    Yucatán     México        Luís Sousa   \n",
       "\n",
       "  ID_Item  ID_Produto               Produto Unnamed: 19  Unnamed: 20  \n",
       "0  1309.0        54.0             Headset           NaN          NaN  \n",
       "1   779.0         1.0      Abridor de carta         NaN          NaN  \n",
       "2   563.0        38.0  Estante tradicional          NaN          NaN  \n",
       "3   738.0        94.0             Teclado           NaN          NaN  \n",
       "4  1684.0       100.0               Tinta           NaN          NaN  \n",
       "\n",
       "[5 rows x 21 columns]"
      ]
     },
     "execution_count": 3,
     "metadata": {},
     "output_type": "execute_result"
    }
   ],
   "source": [
    "dataset.head()"
   ]
  },
  {
   "cell_type": "code",
   "execution_count": 4,
   "metadata": {},
   "outputs": [
    {
     "name": "stdout",
     "output_type": "stream",
     "text": [
      "<class 'pandas.core.frame.DataFrame'>\n",
      "RangeIndex: 20161 entries, 0 to 20160\n",
      "Data columns (total 21 columns):\n",
      " #   Column             Non-Null Count  Dtype         \n",
      "---  ------             --------------  -----         \n",
      " 0   ID_Pedido          20161 non-null  int64         \n",
      " 1   ID_Loja            20161 non-null  int64         \n",
      " 2   ID_Cliente         20161 non-null  int64         \n",
      " 3   Data_Compra        20159 non-null  datetime64[ns]\n",
      " 4   Quantidade_Itens   20161 non-null  int64         \n",
      " 5   Quantidade_Envios  20161 non-null  int64         \n",
      " 6   Lucro              20160 non-null  float64       \n",
      " 7   Vendas             20160 non-null  float64       \n",
      " 8   ID_Cidade          20161 non-null  int64         \n",
      " 9   Nome_Loja          20161 non-null  object        \n",
      " 10  ID_Estado          20161 non-null  int64         \n",
      " 11  Cidade             20161 non-null  object        \n",
      " 12  ID_Pais            20161 non-null  int64         \n",
      " 13  Estado             20161 non-null  object        \n",
      " 14  Pais               20161 non-null  object        \n",
      " 15  Nome_Cliente       20161 non-null  object        \n",
      " 16  ID_Item            10283 non-null  float64       \n",
      " 17  ID_Produto         10283 non-null  float64       \n",
      " 18  Produto            10283 non-null  object        \n",
      " 19  Unnamed: 19        0 non-null      float64       \n",
      " 20  Unnamed: 20        1 non-null      object        \n",
      "dtypes: datetime64[ns](1), float64(5), int64(8), object(7)\n",
      "memory usage: 3.2+ MB\n"
     ]
    }
   ],
   "source": [
    "# 20161 entradas\n",
    "# 21 colunas, duas nulas\n",
    "dataset.info()"
   ]
  },
  {
   "cell_type": "code",
   "execution_count": 5,
   "metadata": {},
   "outputs": [
    {
     "data": {
      "text/plain": [
       "(20161, 13)"
      ]
     },
     "execution_count": 5,
     "metadata": {},
     "output_type": "execute_result"
    }
   ],
   "source": [
    "# Colunas sem utilidade\n",
    "dataset = dataset.drop(columns=['Unnamed: 19','Unnamed: 20'])\n",
    "\n",
    "\n",
    "# Colunas que contém \"IDs\"não são utilizavéis, pois, foram transformados para seu verdadeiro valor. Irei manter somente \n",
    "# o \"ID_Loja\" e \"ID_Pedido\"\n",
    "dataset = dataset.drop(columns=['ID_Item', 'ID_Produto', 'ID_Pais', 'ID_Estado', 'ID_Cidade'])\n",
    "\n",
    "\n",
    "# Nome das lojas é igual ao nome das cidades, então é desnecessário manter as duas no dataset. Além de que, provavelmente,\n",
    "# ocorreu um erro de preenchimento da coluna 'Nome_Loja'\n",
    "(dataset['Nome_Loja'] == dataset['Cidade']).value_counts() # Todos verdadeiros, ou seja, iguais.\n",
    "dataset = dataset.drop(columns='Nome_Loja')\n",
    "\n",
    "\n",
    "dataset.shape"
   ]
  },
  {
   "cell_type": "code",
   "execution_count": 6,
   "metadata": {},
   "outputs": [
    {
     "data": {
      "text/plain": [
       "(5145, 13)"
      ]
     },
     "execution_count": 6,
     "metadata": {},
     "output_type": "execute_result"
    }
   ],
   "source": [
    "# Verificando se tem pedido repetido\n",
    "# Separei em um outro dataset\n",
    "dataset[['ID_Pedido']].duplicated().value_counts(); \n",
    "\n",
    "dataset_pedido = dataset.drop_duplicates(subset='ID_Pedido')\n",
    "\n",
    "dataset_pedido.shape"
   ]
  },
  {
   "cell_type": "markdown",
   "metadata": {},
   "source": [
    "## Ajustando a Variável 'Data_Compra'"
   ]
  },
  {
   "cell_type": "code",
   "execution_count": 7,
   "metadata": {},
   "outputs": [
    {
     "data": {
      "text/html": [
       "<div>\n",
       "<style scoped>\n",
       "    .dataframe tbody tr th:only-of-type {\n",
       "        vertical-align: middle;\n",
       "    }\n",
       "\n",
       "    .dataframe tbody tr th {\n",
       "        vertical-align: top;\n",
       "    }\n",
       "\n",
       "    .dataframe thead th {\n",
       "        text-align: right;\n",
       "    }\n",
       "</style>\n",
       "<table border=\"1\" class=\"dataframe\">\n",
       "  <thead>\n",
       "    <tr style=\"text-align: right;\">\n",
       "      <th></th>\n",
       "      <th>ID_Pedido</th>\n",
       "      <th>ID_Loja</th>\n",
       "      <th>ID_Cliente</th>\n",
       "      <th>Data_Compra</th>\n",
       "      <th>Quantidade_Itens</th>\n",
       "      <th>Quantidade_Envios</th>\n",
       "      <th>Lucro</th>\n",
       "      <th>Vendas</th>\n",
       "      <th>Cidade</th>\n",
       "      <th>Estado</th>\n",
       "      <th>Pais</th>\n",
       "      <th>Nome_Cliente</th>\n",
       "      <th>Produto</th>\n",
       "    </tr>\n",
       "  </thead>\n",
       "  <tbody>\n",
       "    <tr>\n",
       "      <th>68</th>\n",
       "      <td>39</td>\n",
       "      <td>35</td>\n",
       "      <td>36</td>\n",
       "      <td>NaT</td>\n",
       "      <td>1</td>\n",
       "      <td>1</td>\n",
       "      <td>NaN</td>\n",
       "      <td>NaN</td>\n",
       "      <td>Bayamo</td>\n",
       "      <td>Granma</td>\n",
       "      <td>Cuba</td>\n",
       "      <td>Sofia Melo</td>\n",
       "      <td>Repetidor de sinal</td>\n",
       "    </tr>\n",
       "    <tr>\n",
       "      <th>93</th>\n",
       "      <td>49</td>\n",
       "      <td>32</td>\n",
       "      <td>46</td>\n",
       "      <td>NaT</td>\n",
       "      <td>1</td>\n",
       "      <td>1</td>\n",
       "      <td>-1217.92</td>\n",
       "      <td>1074.48</td>\n",
       "      <td>Santo Domingo</td>\n",
       "      <td>Santo Domingo</td>\n",
       "      <td>República Dominicana</td>\n",
       "      <td>Gabriela Martins</td>\n",
       "      <td>Impressora</td>\n",
       "    </tr>\n",
       "  </tbody>\n",
       "</table>\n",
       "</div>"
      ],
      "text/plain": [
       "    ID_Pedido  ID_Loja  ID_Cliente Data_Compra  Quantidade_Itens  \\\n",
       "68         39       35          36         NaT                 1   \n",
       "93         49       32          46         NaT                 1   \n",
       "\n",
       "    Quantidade_Envios    Lucro   Vendas         Cidade         Estado  \\\n",
       "68                  1      NaN      NaN         Bayamo         Granma   \n",
       "93                  1 -1217.92  1074.48  Santo Domingo  Santo Domingo   \n",
       "\n",
       "                    Pais      Nome_Cliente             Produto  \n",
       "68                  Cuba        Sofia Melo  Repetidor de sinal  \n",
       "93  República Dominicana  Gabriela Martins        Impressora    "
      ]
     },
     "execution_count": 7,
     "metadata": {},
     "output_type": "execute_result"
    }
   ],
   "source": [
    "# Duas informações com falta de Data.\n",
    "dataset_pedido[dataset_pedido['Data_Compra'].isna()]"
   ]
  },
  {
   "cell_type": "code",
   "execution_count": 8,
   "metadata": {},
   "outputs": [
    {
     "data": {
      "text/plain": [
       "(5144, 13)"
      ]
     },
     "execution_count": 8,
     "metadata": {},
     "output_type": "execute_result"
    }
   ],
   "source": [
    "# É notável que uma delas não tem \"Lucro\" e nem \"Vendas\", então, foi retirada, pois,\n",
    "# não contém informações importante nela. Mas seria interessante pesquisar o porquê de estar vazia.\n",
    "dataset_pedido = dataset_pedido.drop(68).reset_index(drop=True)\n",
    "dataset_pedido.shape"
   ]
  },
  {
   "cell_type": "code",
   "execution_count": 9,
   "metadata": {},
   "outputs": [
    {
     "data": {
      "text/html": [
       "<div>\n",
       "<style scoped>\n",
       "    .dataframe tbody tr th:only-of-type {\n",
       "        vertical-align: middle;\n",
       "    }\n",
       "\n",
       "    .dataframe tbody tr th {\n",
       "        vertical-align: top;\n",
       "    }\n",
       "\n",
       "    .dataframe thead th {\n",
       "        text-align: right;\n",
       "    }\n",
       "</style>\n",
       "<table border=\"1\" class=\"dataframe\">\n",
       "  <thead>\n",
       "    <tr style=\"text-align: right;\">\n",
       "      <th></th>\n",
       "      <th>ID_Pedido</th>\n",
       "      <th>ID_Loja</th>\n",
       "      <th>ID_Cliente</th>\n",
       "      <th>Data_Compra</th>\n",
       "      <th>Quantidade_Itens</th>\n",
       "      <th>Quantidade_Envios</th>\n",
       "      <th>Lucro</th>\n",
       "      <th>Vendas</th>\n",
       "      <th>Cidade</th>\n",
       "      <th>Estado</th>\n",
       "      <th>Pais</th>\n",
       "      <th>Nome_Cliente</th>\n",
       "      <th>Produto</th>\n",
       "    </tr>\n",
       "  </thead>\n",
       "  <tbody>\n",
       "    <tr>\n",
       "      <th>46</th>\n",
       "      <td>48</td>\n",
       "      <td>41</td>\n",
       "      <td>45</td>\n",
       "      <td>2015-02-24</td>\n",
       "      <td>3</td>\n",
       "      <td>3</td>\n",
       "      <td>3245.1504</td>\n",
       "      <td>11818.1504</td>\n",
       "      <td>Pelotas</td>\n",
       "      <td>Rio Grande do Sul</td>\n",
       "      <td>Brasil</td>\n",
       "      <td>Caio Souza</td>\n",
       "      <td>Fax sem fio</td>\n",
       "    </tr>\n",
       "    <tr>\n",
       "      <th>47</th>\n",
       "      <td>49</td>\n",
       "      <td>32</td>\n",
       "      <td>46</td>\n",
       "      <td>NaT</td>\n",
       "      <td>1</td>\n",
       "      <td>1</td>\n",
       "      <td>-1217.9200</td>\n",
       "      <td>1074.4800</td>\n",
       "      <td>Santo Domingo</td>\n",
       "      <td>Santo Domingo</td>\n",
       "      <td>República Dominicana</td>\n",
       "      <td>Gabriela Martins</td>\n",
       "      <td>Impressora</td>\n",
       "    </tr>\n",
       "    <tr>\n",
       "      <th>48</th>\n",
       "      <td>50</td>\n",
       "      <td>40</td>\n",
       "      <td>46</td>\n",
       "      <td>2015-02-24</td>\n",
       "      <td>1</td>\n",
       "      <td>1</td>\n",
       "      <td>-859.7600</td>\n",
       "      <td>1432.6400</td>\n",
       "      <td>Bom Jesus da Lapa</td>\n",
       "      <td>Bahia</td>\n",
       "      <td>Brasil</td>\n",
       "      <td>Gabriela Martins</td>\n",
       "      <td>Impressora</td>\n",
       "    </tr>\n",
       "  </tbody>\n",
       "</table>\n",
       "</div>"
      ],
      "text/plain": [
       "    ID_Pedido  ID_Loja  ID_Cliente Data_Compra  Quantidade_Itens  \\\n",
       "46         48       41          45  2015-02-24                 3   \n",
       "47         49       32          46         NaT                 1   \n",
       "48         50       40          46  2015-02-24                 1   \n",
       "\n",
       "    Quantidade_Envios      Lucro      Vendas             Cidade  \\\n",
       "46                  3  3245.1504  11818.1504            Pelotas   \n",
       "47                  1 -1217.9200   1074.4800      Santo Domingo   \n",
       "48                  1  -859.7600   1432.6400  Bom Jesus da Lapa   \n",
       "\n",
       "               Estado                  Pais      Nome_Cliente       Produto  \n",
       "46  Rio Grande do Sul                Brasil        Caio Souza   Fax sem fio  \n",
       "47      Santo Domingo  República Dominicana  Gabriela Martins  Impressora    \n",
       "48              Bahia                Brasil  Gabriela Martins  Impressora    "
      ]
     },
     "execution_count": 9,
     "metadata": {},
     "output_type": "execute_result"
    }
   ],
   "source": [
    "# Assumindo que as ordens dos pedidos estão em ordem crescente, podemos colocar a mesma data do pedido anterior e do posterior\n",
    "dataset_pedido.iloc[[46,47,48]]"
   ]
  },
  {
   "cell_type": "code",
   "execution_count": 10,
   "metadata": {},
   "outputs": [
    {
     "name": "stdout",
     "output_type": "stream",
     "text": [
      "<class 'pandas.core.frame.DataFrame'>\n",
      "RangeIndex: 5144 entries, 0 to 5143\n",
      "Data columns (total 13 columns):\n",
      " #   Column             Non-Null Count  Dtype         \n",
      "---  ------             --------------  -----         \n",
      " 0   ID_Pedido          5144 non-null   int64         \n",
      " 1   ID_Loja            5144 non-null   int64         \n",
      " 2   ID_Cliente         5144 non-null   int64         \n",
      " 3   Data_Compra        5144 non-null   datetime64[ns]\n",
      " 4   Quantidade_Itens   5144 non-null   int64         \n",
      " 5   Quantidade_Envios  5144 non-null   int64         \n",
      " 6   Lucro              5144 non-null   float64       \n",
      " 7   Vendas             5144 non-null   float64       \n",
      " 8   Cidade             5144 non-null   object        \n",
      " 9   Estado             5144 non-null   object        \n",
      " 10  Pais               5144 non-null   object        \n",
      " 11  Nome_Cliente       5144 non-null   object        \n",
      " 12  Produto            5133 non-null   object        \n",
      "dtypes: datetime64[ns](1), float64(2), int64(5), object(5)\n",
      "memory usage: 522.6+ KB\n"
     ]
    }
   ],
   "source": [
    "# Data_Compra ajustado\n",
    "dataset_pedido['Data_Compra'].iloc[47] = np.datetime64('2015-02-24')\n",
    "dataset_pedido.info()"
   ]
  },
  {
   "cell_type": "markdown",
   "metadata": {},
   "source": [
    "## Ajustando Variável Produto"
   ]
  },
  {
   "cell_type": "code",
   "execution_count": 11,
   "metadata": {},
   "outputs": [
    {
     "data": {
      "text/html": [
       "<div>\n",
       "<style scoped>\n",
       "    .dataframe tbody tr th:only-of-type {\n",
       "        vertical-align: middle;\n",
       "    }\n",
       "\n",
       "    .dataframe tbody tr th {\n",
       "        vertical-align: top;\n",
       "    }\n",
       "\n",
       "    .dataframe thead th {\n",
       "        text-align: right;\n",
       "    }\n",
       "</style>\n",
       "<table border=\"1\" class=\"dataframe\">\n",
       "  <thead>\n",
       "    <tr style=\"text-align: right;\">\n",
       "      <th></th>\n",
       "      <th>ID_Pedido</th>\n",
       "      <th>ID_Loja</th>\n",
       "      <th>ID_Cliente</th>\n",
       "      <th>Data_Compra</th>\n",
       "      <th>Quantidade_Itens</th>\n",
       "      <th>Quantidade_Envios</th>\n",
       "      <th>Lucro</th>\n",
       "      <th>Vendas</th>\n",
       "      <th>Cidade</th>\n",
       "      <th>Estado</th>\n",
       "      <th>Pais</th>\n",
       "      <th>Nome_Cliente</th>\n",
       "      <th>Produto</th>\n",
       "    </tr>\n",
       "  </thead>\n",
       "  <tbody>\n",
       "    <tr>\n",
       "      <th>265</th>\n",
       "      <td>267</td>\n",
       "      <td>40</td>\n",
       "      <td>45</td>\n",
       "      <td>2015-06-17</td>\n",
       "      <td>1</td>\n",
       "      <td>1</td>\n",
       "      <td>-5352.9600</td>\n",
       "      <td>3691.4400</td>\n",
       "      <td>Bom Jesus da Lapa</td>\n",
       "      <td>Bahia</td>\n",
       "      <td>Brasil</td>\n",
       "      <td>Caio Souza</td>\n",
       "      <td>NaN</td>\n",
       "    </tr>\n",
       "    <tr>\n",
       "      <th>915</th>\n",
       "      <td>917</td>\n",
       "      <td>299</td>\n",
       "      <td>536</td>\n",
       "      <td>2016-01-29</td>\n",
       "      <td>7</td>\n",
       "      <td>7</td>\n",
       "      <td>1292.2584</td>\n",
       "      <td>14246.8584</td>\n",
       "      <td>Portmore</td>\n",
       "      <td>Saint Catherine</td>\n",
       "      <td>Jamaica</td>\n",
       "      <td>Brenda Barros</td>\n",
       "      <td>NaN</td>\n",
       "    </tr>\n",
       "    <tr>\n",
       "      <th>1154</th>\n",
       "      <td>1156</td>\n",
       "      <td>91</td>\n",
       "      <td>76</td>\n",
       "      <td>2016-05-23</td>\n",
       "      <td>1</td>\n",
       "      <td>1</td>\n",
       "      <td>-310.8000</td>\n",
       "      <td>207.2000</td>\n",
       "      <td>Araranguá</td>\n",
       "      <td>Santa Catarina</td>\n",
       "      <td>Brasil</td>\n",
       "      <td>Nicole Ribeiro</td>\n",
       "      <td>NaN</td>\n",
       "    </tr>\n",
       "    <tr>\n",
       "      <th>2059</th>\n",
       "      <td>2061</td>\n",
       "      <td>57</td>\n",
       "      <td>183</td>\n",
       "      <td>2017-02-15</td>\n",
       "      <td>2</td>\n",
       "      <td>2</td>\n",
       "      <td>-1987.9632</td>\n",
       "      <td>4743.2368</td>\n",
       "      <td>Caracas</td>\n",
       "      <td>Distrito Capital</td>\n",
       "      <td>Venezuela</td>\n",
       "      <td>Vinicius Fernandes</td>\n",
       "      <td>NaN</td>\n",
       "    </tr>\n",
       "    <tr>\n",
       "      <th>2815</th>\n",
       "      <td>2817</td>\n",
       "      <td>348</td>\n",
       "      <td>722</td>\n",
       "      <td>2017-09-15</td>\n",
       "      <td>2</td>\n",
       "      <td>2</td>\n",
       "      <td>-462.5600</td>\n",
       "      <td>547.8400</td>\n",
       "      <td>Belo Horizonte</td>\n",
       "      <td>Minas Gerais</td>\n",
       "      <td>Brasil</td>\n",
       "      <td>Diego Silva</td>\n",
       "      <td>NaN</td>\n",
       "    </tr>\n",
       "    <tr>\n",
       "      <th>3499</th>\n",
       "      <td>3501</td>\n",
       "      <td>141</td>\n",
       "      <td>395</td>\n",
       "      <td>2018-01-23</td>\n",
       "      <td>1</td>\n",
       "      <td>1</td>\n",
       "      <td>-117.7200</td>\n",
       "      <td>146.8800</td>\n",
       "      <td>Presidente Dutra</td>\n",
       "      <td>Maranhão</td>\n",
       "      <td>Brasil</td>\n",
       "      <td>Carolina Goncalves</td>\n",
       "      <td>NaN</td>\n",
       "    </tr>\n",
       "    <tr>\n",
       "      <th>3526</th>\n",
       "      <td>3528</td>\n",
       "      <td>144</td>\n",
       "      <td>773</td>\n",
       "      <td>2018-02-11</td>\n",
       "      <td>1</td>\n",
       "      <td>1</td>\n",
       "      <td>-22.8000</td>\n",
       "      <td>272.4000</td>\n",
       "      <td>Colón</td>\n",
       "      <td>Colón</td>\n",
       "      <td>Panamá</td>\n",
       "      <td>Enzo Ferreira</td>\n",
       "      <td>NaN</td>\n",
       "    </tr>\n",
       "    <tr>\n",
       "      <th>3593</th>\n",
       "      <td>3595</td>\n",
       "      <td>56</td>\n",
       "      <td>164</td>\n",
       "      <td>2018-03-11</td>\n",
       "      <td>3</td>\n",
       "      <td>3</td>\n",
       "      <td>3285.4000</td>\n",
       "      <td>12119.8000</td>\n",
       "      <td>Consolación del Sur</td>\n",
       "      <td>Pinar del Rio</td>\n",
       "      <td>Cuba</td>\n",
       "      <td>Sofia Araujo</td>\n",
       "      <td>NaN</td>\n",
       "    </tr>\n",
       "    <tr>\n",
       "      <th>4136</th>\n",
       "      <td>4138</td>\n",
       "      <td>141</td>\n",
       "      <td>76</td>\n",
       "      <td>2018-07-21</td>\n",
       "      <td>5</td>\n",
       "      <td>5</td>\n",
       "      <td>-6094.8548</td>\n",
       "      <td>8317.3452</td>\n",
       "      <td>Presidente Dutra</td>\n",
       "      <td>Maranhão</td>\n",
       "      <td>Brasil</td>\n",
       "      <td>Nicole Ribeiro</td>\n",
       "      <td>NaN</td>\n",
       "    </tr>\n",
       "    <tr>\n",
       "      <th>4365</th>\n",
       "      <td>4367</td>\n",
       "      <td>367</td>\n",
       "      <td>68</td>\n",
       "      <td>2018-09-12</td>\n",
       "      <td>1</td>\n",
       "      <td>1</td>\n",
       "      <td>-5453.5200</td>\n",
       "      <td>4641.2800</td>\n",
       "      <td>Açu</td>\n",
       "      <td>Rio Grande do Norte</td>\n",
       "      <td>Brasil</td>\n",
       "      <td>Vitór Dias</td>\n",
       "      <td>NaN</td>\n",
       "    </tr>\n",
       "    <tr>\n",
       "      <th>4461</th>\n",
       "      <td>4463</td>\n",
       "      <td>2</td>\n",
       "      <td>631</td>\n",
       "      <td>2018-09-26</td>\n",
       "      <td>1</td>\n",
       "      <td>1</td>\n",
       "      <td>-717.8400</td>\n",
       "      <td>755.3600</td>\n",
       "      <td>Pilar</td>\n",
       "      <td>Alagoas</td>\n",
       "      <td>Brasil</td>\n",
       "      <td>Leonardo Pereira</td>\n",
       "      <td>NaN</td>\n",
       "    </tr>\n",
       "  </tbody>\n",
       "</table>\n",
       "</div>"
      ],
      "text/plain": [
       "      ID_Pedido  ID_Loja  ID_Cliente Data_Compra  Quantidade_Itens  \\\n",
       "265         267       40          45  2015-06-17                 1   \n",
       "915         917      299         536  2016-01-29                 7   \n",
       "1154       1156       91          76  2016-05-23                 1   \n",
       "2059       2061       57         183  2017-02-15                 2   \n",
       "2815       2817      348         722  2017-09-15                 2   \n",
       "3499       3501      141         395  2018-01-23                 1   \n",
       "3526       3528      144         773  2018-02-11                 1   \n",
       "3593       3595       56         164  2018-03-11                 3   \n",
       "4136       4138      141          76  2018-07-21                 5   \n",
       "4365       4367      367          68  2018-09-12                 1   \n",
       "4461       4463        2         631  2018-09-26                 1   \n",
       "\n",
       "      Quantidade_Envios      Lucro      Vendas               Cidade  \\\n",
       "265                   1 -5352.9600   3691.4400    Bom Jesus da Lapa   \n",
       "915                   7  1292.2584  14246.8584             Portmore   \n",
       "1154                  1  -310.8000    207.2000            Araranguá   \n",
       "2059                  2 -1987.9632   4743.2368              Caracas   \n",
       "2815                  2  -462.5600    547.8400       Belo Horizonte   \n",
       "3499                  1  -117.7200    146.8800     Presidente Dutra   \n",
       "3526                  1   -22.8000    272.4000                Colón   \n",
       "3593                  3  3285.4000  12119.8000  Consolación del Sur   \n",
       "4136                  5 -6094.8548   8317.3452     Presidente Dutra   \n",
       "4365                  1 -5453.5200   4641.2800                  Açu   \n",
       "4461                  1  -717.8400    755.3600                Pilar   \n",
       "\n",
       "                   Estado       Pais        Nome_Cliente Produto  \n",
       "265                 Bahia     Brasil          Caio Souza     NaN  \n",
       "915       Saint Catherine    Jamaica       Brenda Barros     NaN  \n",
       "1154       Santa Catarina     Brasil      Nicole Ribeiro     NaN  \n",
       "2059     Distrito Capital  Venezuela  Vinicius Fernandes     NaN  \n",
       "2815         Minas Gerais     Brasil         Diego Silva     NaN  \n",
       "3499             Maranhão     Brasil  Carolina Goncalves     NaN  \n",
       "3526                Colón     Panamá       Enzo Ferreira     NaN  \n",
       "3593        Pinar del Rio       Cuba        Sofia Araujo     NaN  \n",
       "4136             Maranhão     Brasil      Nicole Ribeiro     NaN  \n",
       "4365  Rio Grande do Norte     Brasil          Vitór Dias     NaN  \n",
       "4461              Alagoas     Brasil    Leonardo Pereira     NaN  "
      ]
     },
     "execution_count": 11,
     "metadata": {},
     "output_type": "execute_result"
    }
   ],
   "source": [
    "# \"Produto\" possue 11 informações incompletas\n",
    "dataset_pedido[dataset_pedido['Produto'].isna()]"
   ]
  },
  {
   "cell_type": "code",
   "execution_count": 12,
   "metadata": {},
   "outputs": [],
   "source": [
    "# Preenchi os NaN pela palavra Outros, além de diferenciar dos outros produtos, poderemos utilizar as informações por completo\n",
    "# ao utilizar a base de dados\n",
    "dataset_pedido['Produto'] = dataset_pedido['Produto'].fillna('Outros')"
   ]
  },
  {
   "cell_type": "code",
   "execution_count": 13,
   "metadata": {},
   "outputs": [
    {
     "name": "stdout",
     "output_type": "stream",
     "text": [
      "<class 'pandas.core.frame.DataFrame'>\n",
      "RangeIndex: 5144 entries, 0 to 5143\n",
      "Data columns (total 13 columns):\n",
      " #   Column             Non-Null Count  Dtype         \n",
      "---  ------             --------------  -----         \n",
      " 0   ID_Pedido          5144 non-null   int64         \n",
      " 1   ID_Loja            5144 non-null   int64         \n",
      " 2   ID_Cliente         5144 non-null   int64         \n",
      " 3   Data_Compra        5144 non-null   datetime64[ns]\n",
      " 4   Quantidade_Itens   5144 non-null   int64         \n",
      " 5   Quantidade_Envios  5144 non-null   int64         \n",
      " 6   Lucro              5144 non-null   float64       \n",
      " 7   Vendas             5144 non-null   float64       \n",
      " 8   Cidade             5144 non-null   object        \n",
      " 9   Estado             5144 non-null   object        \n",
      " 10  Pais               5144 non-null   object        \n",
      " 11  Nome_Cliente       5144 non-null   object        \n",
      " 12  Produto            5144 non-null   object        \n",
      "dtypes: datetime64[ns](1), float64(2), int64(5), object(5)\n",
      "memory usage: 522.6+ KB\n"
     ]
    }
   ],
   "source": [
    "dataset_pedido.info()"
   ]
  },
  {
   "cell_type": "code",
   "execution_count": 14,
   "metadata": {},
   "outputs": [],
   "source": [
    "dataset_final = dataset_pedido.to_excel('BIGSTORE_LIMPO.xlsx', index=False)"
   ]
  },
  {
   "cell_type": "markdown",
   "metadata": {},
   "source": [
    "## Informações Interessantes no Dataset"
   ]
  },
  {
   "cell_type": "code",
   "execution_count": 15,
   "metadata": {},
   "outputs": [
    {
     "data": {
      "text/plain": [
       "2018-09-26    924\n",
       "2018-09-12    915\n",
       "2018-07-21    914\n",
       "2018-03-11    909\n",
       "2018-02-11    904\n",
       "2015-06-17    901\n",
       "2018-01-23    901\n",
       "2017-02-15    900\n",
       "2016-05-23    900\n",
       "2017-09-15    900\n",
       "2016-01-29    898\n",
       "2018-11-20     39\n",
       "2017-09-21     37\n",
       "2018-11-10     37\n",
       "2017-12-21     36\n",
       "Name: Data_Compra, dtype: int64"
      ]
     },
     "execution_count": 15,
     "metadata": {},
     "output_type": "execute_result"
    }
   ],
   "source": [
    "# 10 dias no qual teve bastante compras, porquê?\n",
    "dataset['Data_Compra'].value_counts().head(15)"
   ]
  },
  {
   "cell_type": "code",
   "execution_count": 16,
   "metadata": {},
   "outputs": [
    {
     "data": {
      "text/plain": [
       "134    15\n",
       "68     15\n",
       "261    14\n",
       "230    14\n",
       "24     14\n",
       "       ..\n",
       "634     1\n",
       "614     1\n",
       "370     1\n",
       "62      1\n",
       "766     1\n",
       "Name: ID_Cliente, Length: 794, dtype: int64"
      ]
     },
     "execution_count": 16,
     "metadata": {},
     "output_type": "execute_result"
    }
   ],
   "source": [
    "# Repetição de ID do Cliente na planilha\n",
    "dataset_pedido['ID_Cliente'].value_counts()"
   ]
  },
  {
   "cell_type": "code",
   "execution_count": 17,
   "metadata": {},
   "outputs": [
    {
     "data": {
      "text/plain": [
       "Giovanna Oliveira    33\n",
       "Pedro Dias           30\n",
       "Sophia Pereira       28\n",
       "Livia Santos         25\n",
       "Vinicius Silva       22\n",
       "                     ..\n",
       "Arthur Azevedo        1\n",
       "Ana Rodrigues         1\n",
       "Enzo Barbosa          1\n",
       "Estevan Santos        1\n",
       "Kauã Rocha            1\n",
       "Name: Nome_Cliente, Length: 719, dtype: int64"
      ]
     },
     "execution_count": 17,
     "metadata": {},
     "output_type": "execute_result"
    }
   ],
   "source": [
    "# Repetição de Nome Cliente na Planilha\n",
    "dataset_pedido['Nome_Cliente'].value_counts()"
   ]
  },
  {
   "cell_type": "markdown",
   "metadata": {},
   "source": [
    "Era para apresentar valores iguais,porém tem cliente que possui mais do que um ID"
   ]
  },
  {
   "cell_type": "markdown",
   "metadata": {},
   "source": [
    "## Parte 3: Algoritmo de Machine Learning"
   ]
  },
  {
   "cell_type": "markdown",
   "metadata": {},
   "source": [
    "Com objetivo de separar os clientes em grupos, irei usar o método de clusterização, através do algoritmo KMeans. Separando os clientes em 3 grupos (Ouro, Prata, Bronze)."
   ]
  },
  {
   "cell_type": "code",
   "execution_count": 18,
   "metadata": {},
   "outputs": [],
   "source": [
    "df_kmeans = dataset_pedido[['ID_Cliente','Nome_Cliente','Vendas']].groupby('ID_Cliente')['Vendas'].sum()"
   ]
  },
  {
   "cell_type": "code",
   "execution_count": 19,
   "metadata": {},
   "outputs": [],
   "source": [
    "df_kmeans2 = pd.DataFrame(df_kmeans).reset_index()"
   ]
  },
  {
   "cell_type": "code",
   "execution_count": 20,
   "metadata": {},
   "outputs": [
    {
     "data": {
      "text/html": [
       "<div>\n",
       "<style scoped>\n",
       "    .dataframe tbody tr th:only-of-type {\n",
       "        vertical-align: middle;\n",
       "    }\n",
       "\n",
       "    .dataframe tbody tr th {\n",
       "        vertical-align: top;\n",
       "    }\n",
       "\n",
       "    .dataframe thead th {\n",
       "        text-align: right;\n",
       "    }\n",
       "</style>\n",
       "<table border=\"1\" class=\"dataframe\">\n",
       "  <thead>\n",
       "    <tr style=\"text-align: right;\">\n",
       "      <th></th>\n",
       "      <th>ID_Cliente</th>\n",
       "      <th>Vendas</th>\n",
       "    </tr>\n",
       "  </thead>\n",
       "  <tbody>\n",
       "    <tr>\n",
       "      <th>0</th>\n",
       "      <td>1</td>\n",
       "      <td>14083.2000</td>\n",
       "    </tr>\n",
       "    <tr>\n",
       "      <th>1</th>\n",
       "      <td>2</td>\n",
       "      <td>16730.9756</td>\n",
       "    </tr>\n",
       "    <tr>\n",
       "      <th>2</th>\n",
       "      <td>3</td>\n",
       "      <td>24423.3400</td>\n",
       "    </tr>\n",
       "    <tr>\n",
       "      <th>3</th>\n",
       "      <td>4</td>\n",
       "      <td>20161.5944</td>\n",
       "    </tr>\n",
       "    <tr>\n",
       "      <th>4</th>\n",
       "      <td>5</td>\n",
       "      <td>78031.5232</td>\n",
       "    </tr>\n",
       "  </tbody>\n",
       "</table>\n",
       "</div>"
      ],
      "text/plain": [
       "   ID_Cliente      Vendas\n",
       "0           1  14083.2000\n",
       "1           2  16730.9756\n",
       "2           3  24423.3400\n",
       "3           4  20161.5944\n",
       "4           5  78031.5232"
      ]
     },
     "execution_count": 20,
     "metadata": {},
     "output_type": "execute_result"
    }
   ],
   "source": [
    "df_kmeans2.head()"
   ]
  },
  {
   "cell_type": "code",
   "execution_count": 21,
   "metadata": {},
   "outputs": [],
   "source": [
    "# Algoritmo \n",
    "kmeans = KMeans(n_clusters = 3, random_state = 0)"
   ]
  },
  {
   "cell_type": "code",
   "execution_count": 22,
   "metadata": {},
   "outputs": [
    {
     "data": {
      "text/plain": [
       "KMeans(algorithm='auto', copy_x=True, init='k-means++', max_iter=300,\n",
       "       n_clusters=3, n_init=10, n_jobs=None, precompute_distances='auto',\n",
       "       random_state=0, tol=0.0001, verbose=0)"
      ]
     },
     "execution_count": 22,
     "metadata": {},
     "output_type": "execute_result"
    }
   ],
   "source": [
    "# Treinamento\n",
    "kmeans.fit(df_kmeans2)"
   ]
  },
  {
   "cell_type": "code",
   "execution_count": 36,
   "metadata": {},
   "outputs": [
    {
     "data": {
      "image/png": "[encoded data removed]",
      "text/plain": [
       "<Figure size 432x288 with 1 Axes>"
      ]
     },
     "metadata": {
      "needs_background": "light"
     },
     "output_type": "display_data"
    }
   ],
   "source": [
    "# Montagem do Gráfico gerado\n",
    "plt.scatter(df_kmeans2.loc[:, 'ID_Cliente'], df_kmeans2.loc[:, 'Vendas'], s = 30, c = kmeans.labels_)\n",
    "plt.scatter(kmeans.cluster_centers_[:, 0], kmeans.cluster_centers_[:, 1], s = 100, c = 'red',label = 'Centroids')\n",
    "plt.title('Classificção Vendas por ID Cliente')\n",
    "plt.xlabel('ID Cliente')\n",
    "plt.ylabel('Vendas')\n",
    "plt.legend()\n",
    "\n",
    "plt.show()"
   ]
  },
  {
   "cell_type": "code",
   "execution_count": 24,
   "metadata": {},
   "outputs": [
    {
     "data": {
      "text/html": [
       "<div>\n",
       "<style scoped>\n",
       "    .dataframe tbody tr th:only-of-type {\n",
       "        vertical-align: middle;\n",
       "    }\n",
       "\n",
       "    .dataframe tbody tr th {\n",
       "        vertical-align: top;\n",
       "    }\n",
       "\n",
       "    .dataframe thead th {\n",
       "        text-align: right;\n",
       "    }\n",
       "</style>\n",
       "<table border=\"1\" class=\"dataframe\">\n",
       "  <thead>\n",
       "    <tr style=\"text-align: right;\">\n",
       "      <th></th>\n",
       "      <th>ID_Cliente</th>\n",
       "      <th>Vendas</th>\n",
       "      <th>Classificacao</th>\n",
       "    </tr>\n",
       "  </thead>\n",
       "  <tbody>\n",
       "    <tr>\n",
       "      <th>0</th>\n",
       "      <td>1</td>\n",
       "      <td>14083.2000</td>\n",
       "      <td>0</td>\n",
       "    </tr>\n",
       "    <tr>\n",
       "      <th>1</th>\n",
       "      <td>2</td>\n",
       "      <td>16730.9756</td>\n",
       "      <td>0</td>\n",
       "    </tr>\n",
       "    <tr>\n",
       "      <th>2</th>\n",
       "      <td>3</td>\n",
       "      <td>24423.3400</td>\n",
       "      <td>2</td>\n",
       "    </tr>\n",
       "    <tr>\n",
       "      <th>3</th>\n",
       "      <td>4</td>\n",
       "      <td>20161.5944</td>\n",
       "      <td>0</td>\n",
       "    </tr>\n",
       "    <tr>\n",
       "      <th>4</th>\n",
       "      <td>5</td>\n",
       "      <td>78031.5232</td>\n",
       "      <td>1</td>\n",
       "    </tr>\n",
       "  </tbody>\n",
       "</table>\n",
       "</div>"
      ],
      "text/plain": [
       "   ID_Cliente      Vendas  Classificacao\n",
       "0           1  14083.2000              0\n",
       "1           2  16730.9756              0\n",
       "2           3  24423.3400              2\n",
       "3           4  20161.5944              0\n",
       "4           5  78031.5232              1"
      ]
     },
     "execution_count": 24,
     "metadata": {},
     "output_type": "execute_result"
    }
   ],
   "source": [
    "# Criando nova coluna\n",
    "df_kmeans2['Classificacao'] = kmeans.labels_\n",
    "\n",
    "df_kmeans2.head()"
   ]
  },
  {
   "cell_type": "code",
   "execution_count": 25,
   "metadata": {},
   "outputs": [],
   "source": [
    "# Função do rank \n",
    "def Medalha(arrow):\n",
    "    if arrow == 0:\n",
    "        return 'Bronze'\n",
    "    elif arrow == 1:\n",
    "        return 'Ouro'\n",
    "    else:\n",
    "        return 'Prata'"
   ]
  },
  {
   "cell_type": "code",
   "execution_count": 26,
   "metadata": {},
   "outputs": [
    {
     "data": {
      "text/html": [
       "<div>\n",
       "<style scoped>\n",
       "    .dataframe tbody tr th:only-of-type {\n",
       "        vertical-align: middle;\n",
       "    }\n",
       "\n",
       "    .dataframe tbody tr th {\n",
       "        vertical-align: top;\n",
       "    }\n",
       "\n",
       "    .dataframe thead th {\n",
       "        text-align: right;\n",
       "    }\n",
       "</style>\n",
       "<table border=\"1\" class=\"dataframe\">\n",
       "  <thead>\n",
       "    <tr style=\"text-align: right;\">\n",
       "      <th></th>\n",
       "      <th>ID_Cliente</th>\n",
       "      <th>Vendas</th>\n",
       "      <th>Classificacao</th>\n",
       "      <th>Medalha</th>\n",
       "    </tr>\n",
       "  </thead>\n",
       "  <tbody>\n",
       "    <tr>\n",
       "      <th>0</th>\n",
       "      <td>1</td>\n",
       "      <td>14083.2000</td>\n",
       "      <td>0</td>\n",
       "      <td>Bronze</td>\n",
       "    </tr>\n",
       "    <tr>\n",
       "      <th>1</th>\n",
       "      <td>2</td>\n",
       "      <td>16730.9756</td>\n",
       "      <td>0</td>\n",
       "      <td>Bronze</td>\n",
       "    </tr>\n",
       "    <tr>\n",
       "      <th>2</th>\n",
       "      <td>3</td>\n",
       "      <td>24423.3400</td>\n",
       "      <td>2</td>\n",
       "      <td>Prata</td>\n",
       "    </tr>\n",
       "    <tr>\n",
       "      <th>3</th>\n",
       "      <td>4</td>\n",
       "      <td>20161.5944</td>\n",
       "      <td>0</td>\n",
       "      <td>Bronze</td>\n",
       "    </tr>\n",
       "    <tr>\n",
       "      <th>4</th>\n",
       "      <td>5</td>\n",
       "      <td>78031.5232</td>\n",
       "      <td>1</td>\n",
       "      <td>Ouro</td>\n",
       "    </tr>\n",
       "  </tbody>\n",
       "</table>\n",
       "</div>"
      ],
      "text/plain": [
       "   ID_Cliente      Vendas  Classificacao Medalha\n",
       "0           1  14083.2000              0  Bronze\n",
       "1           2  16730.9756              0  Bronze\n",
       "2           3  24423.3400              2   Prata\n",
       "3           4  20161.5944              0  Bronze\n",
       "4           5  78031.5232              1    Ouro"
      ]
     },
     "execution_count": 26,
     "metadata": {},
     "output_type": "execute_result"
    }
   ],
   "source": [
    "# Criando coluna de rank para os clientes\n",
    "df_kmeans2['Medalha'] = df_kmeans2['Classificacao'].map(Medalha)\n",
    "\n",
    "df_kmeans2.head()"
   ]
  },
  {
   "cell_type": "code",
   "execution_count": 27,
   "metadata": {},
   "outputs": [],
   "source": [
    "# Mandando formato excel para ser explorado no Tableau\n",
    "df_final = df_kmeans2.drop(columns='Classificacao').to_excel('Podio_Cliente.xlsx', index=False)"
   ]
  }
 ],
 "metadata": {
  "kernelspec": {
   "display_name": "Python 3",
   "language": "python",
   "name": "python3"
  },
  "language_info": {
   "codemirror_mode": {
    "name": "ipython",
    "version": 3
   },
   "file_extension": ".py",
   "mimetype": "text/x-python",
   "name": "python",
   "nbconvert_exporter": "python",
   "pygments_lexer": "ipython3",
   "version": "3.7.6"
  }
 },
 "nbformat": 4,
 "nbformat_minor": 4
}
